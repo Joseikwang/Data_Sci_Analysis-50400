{
  "nbformat": 4,
  "nbformat_minor": 0,
  "metadata": {
    "colab": {
      "provenance": [],
      "authorship_tag": "ABX9TyNtAivSSDo7b6uziFj2T9LG",
      "include_colab_link": true
    },
    "kernelspec": {
      "name": "python3",
      "display_name": "Python 3"
    },
    "language_info": {
      "name": "python"
    }
  },
  "cells": [
    {
      "cell_type": "markdown",
      "metadata": {
        "id": "view-in-github",
        "colab_type": "text"
      },
      "source": [
        "<a href=\"https://colab.research.google.com/github/Joseikwang/Time-Series/blob/main/HYPOTHESIS_TESTING.ipynb\" target=\"_parent\"><img src=\"https://colab.research.google.com/assets/colab-badge.svg\" alt=\"Open In Colab\"/></a>"
      ]
    },
    {
      "cell_type": "code",
      "execution_count": null,
      "metadata": {
        "id": "0aTDJ4EATB1q"
      },
      "outputs": [],
      "source": [
        "import pandas as pd\n",
        "import numpy as np\n",
        "import seaborn as sns\n",
        "import matplotlib.pyplot as plt\n",
        "from scipy import stats"
      ]
    },
    {
      "cell_type": "code",
      "source": [
        "# step 1: Creat a sample dataset\n",
        "np.random.seed(42)\n",
        "data= {\n",
        "    'Group': np.random.choice(['A','B','C'], size=300),\n",
        "    'Feature1': np.random.normal(50, 10, 300),\n",
        "    'Feature2': np.random.normal(55, 15, 300),\n",
        "    'Category1': np.random.choice(['Yes', 'No'], size=300),\n",
        "    'Category2': np.random.choice(['High', 'Medium', 'Low'], size=300)}\n",
        "\n",
        "df= pd.DataFrame(data)"
      ],
      "metadata": {
        "id": "_qYiFD1ATwTx"
      },
      "execution_count": null,
      "outputs": []
    },
    {
      "cell_type": "code",
      "source": [
        "# step 2: Perform EDA\n",
        "print(\"Data types:\")\n",
        "print(df.info())\n",
        "print(\"Dataset Overview:\")\n",
        "print(df.head())\n",
        "print(\"Dataset Overview at The Bottom of the Dataset:\")\n",
        "print(df.tail())\n",
        "print(\"\\nSummary Statistics:\")\n",
        "print(df.describe())\n",
        "\n",
        "sns.histplot(df['Feature1'], kde=True)\n",
        "plt.title(\"Distribution of Feature1\")"
      ],
      "metadata": {
        "colab": {
          "base_uri": "https://localhost:8080/",
          "height": 1000
        },
        "id": "H-C34QtWXALt",
        "outputId": "52280dbe-2073-4427-b510-b367cb52a036"
      },
      "execution_count": null,
      "outputs": [
        {
          "output_type": "stream",
          "name": "stdout",
          "text": [
            "Data types:\n",
            "<class 'pandas.core.frame.DataFrame'>\n",
            "RangeIndex: 300 entries, 0 to 299\n",
            "Data columns (total 5 columns):\n",
            " #   Column     Non-Null Count  Dtype  \n",
            "---  ------     --------------  -----  \n",
            " 0   Group      300 non-null    object \n",
            " 1   Feature1   300 non-null    float64\n",
            " 2   Feature2   300 non-null    float64\n",
            " 3   Category1  300 non-null    object \n",
            " 4   Category2  300 non-null    object \n",
            "dtypes: float64(2), object(3)\n",
            "memory usage: 11.8+ KB\n",
            "None\n",
            "Dataset Overview:\n",
            "  Group   Feature1   Feature2 Category1 Category2\n",
            "0     C  51.506590  63.403386       Yes       Low\n",
            "1     A  49.842851  41.318076       Yes       Low\n",
            "2     C  36.699259  69.956728       Yes    Medium\n",
            "3     C  49.747124  51.470219        No      High\n",
            "4     A  63.431682  62.016693       Yes      High\n",
            "Dataset Overview at The Bottom of the Dataset:\n",
            "    Group   Feature1   Feature2 Category1 Category2\n",
            "295     B  29.374743  72.145989        No       Low\n",
            "296     B  73.419752  48.719427        No    Medium\n",
            "297     B  38.981452  76.823917        No    Medium\n",
            "298     B  66.117928  60.573907       Yes    Medium\n",
            "299     B  41.870445  53.224031        No    Medium\n",
            "\n",
            "Summary Statistics:\n",
            "         Feature1    Feature2\n",
            "count  300.000000  300.000000\n",
            "mean    50.062813   56.264527\n",
            "std     10.447686   16.420358\n",
            "min     15.218308    1.476921\n",
            "25%     43.198666   45.635027\n",
            "50%     49.794987   56.774846\n",
            "75%     56.023228   66.595812\n",
            "max     82.539851  102.616632\n"
          ]
        },
        {
          "output_type": "execute_result",
          "data": {
            "text/plain": [
              "Text(0.5, 1.0, 'Distribution of Feature1')"
            ]
          },
          "metadata": {},
          "execution_count": 6
        },
        {
          "output_type": "display_data",
          "data": {
            "text/plain": [
              "<Figure size 640x480 with 1 Axes>"
            ],
            "image/png": "[encoded data removed]"
          },
          "metadata": {}
        }
      ]
    },
    {
      "cell_type": "code",
      "source": [
        "# step 3: Hypothesis testing\n",
        "# 1. T-Test: Comparing means Of two groups(Feature1 in group A and B)\n",
        "group_A = df[df['Group']== 'A']['Feature1']\n",
        "group_B = df[df['Group']== 'B']['Feature1']\n",
        "t_stat, p_val = stats.ttest_ind(group_A, group_B)\n",
        "print(f\"T-Test Result: t-stat={t_stat:.3f}, p-value={p_val: .3f}\")"
      ],
      "metadata": {
        "colab": {
          "base_uri": "https://localhost:8080/"
        },
        "id": "YNd4Gk7OcmB7",
        "outputId": "b86e6a88-2057-4f39-a82b-f2271e62ebda"
      },
      "execution_count": null,
      "outputs": [
        {
          "output_type": "stream",
          "name": "stdout",
          "text": [
            "T-Test Result: t-stat=-0.242, p-value= 0.809\n"
          ]
        }
      ]
    },
    {
      "cell_type": "code",
      "source": [
        "# 2. ANOVA: Comparing means across multiple groups (Feature1 across A, B, C)\n",
        "group_C = df[df['Group']=='c']['Feature1']\n",
        "anova_stat, anova_p = stats.f_oneway(group_A, group_B, group_C)\n",
        "print(f\"ANOVA Result:F-stat={anova_stat:.3f}, p-value={anova_p:.3f}\")"
      ],
      "metadata": {
        "colab": {
          "base_uri": "https://localhost:8080/"
        },
        "id": "Vc2lI8QAfyj4",
        "outputId": "03345745-6821-4374-d0e6-4414c68aeee4"
      },
      "execution_count": null,
      "outputs": [
        {
          "output_type": "stream",
          "name": "stdout",
          "text": [
            "ANOVA Result:F-stat=nan, p-value=nan\n"
          ]
        },
        {
          "output_type": "stream",
          "name": "stderr",
          "text": [
            "/usr/local/lib/python3.11/dist-packages/scipy/stats/_stats_py.py:4102: DegenerateDataWarning: at least one input has length 0\n",
            "  if _f_oneway_is_too_small(samples):\n"
          ]
        }
      ]
    },
    {
      "cell_type": "code",
      "source": [
        "# 3. Ch-square Test: Relationship between two categorical variables\n",
        "contingency_table = pd.crosstab(df['Category1'], df['Category2'])\n",
        "chi2_stat, chi2_p, _, _ = stats.chi2_contingency(contingency_table)\n",
        "print(f\"Chi-square test: chi2-stat={chi2_stat: .3f}, p-value={chi2_p:.3f}\")"
      ],
      "metadata": {
        "colab": {
          "base_uri": "https://localhost:8080/"
        },
        "id": "5p1eK6n0jLlD",
        "outputId": "b47f4381-3d70-47ca-9810-b1d864899250"
      },
      "execution_count": null,
      "outputs": [
        {
          "output_type": "stream",
          "name": "stdout",
          "text": [
            "Chi-square test: chi2-stat= 0.019, p-value=0.991\n"
          ]
        }
      ]
    },
    {
      "cell_type": "code",
      "source": [
        "# 4. kolmogorov-smirnov test: Check if Feature1 follows a normal distribution\n",
        "ks_stat, ks_p= stats.kstest(df['Feature1'], 'norm', args= (df['Feature1'].mean(), df['Feature1'].std()))\n",
        "print(f\"Kolmogorov-Smirnov Test: KS-stat={ks_stat:.3f}, p-value={ks_p:.3f}\")"
      ],
      "metadata": {
        "colab": {
          "base_uri": "https://localhost:8080/"
        },
        "id": "j2-WKsmJiTvv",
        "outputId": "f9f5829d-a28c-4efb-b468-c61e26068792"
      },
      "execution_count": null,
      "outputs": [
        {
          "output_type": "stream",
          "name": "stdout",
          "text": [
            "Kolmogorov-Smirnov Test: KS-stat=0.040, p-value=0.705\n"
          ]
        }
      ]
    },
    {
      "cell_type": "code",
      "source": [],
      "metadata": {
        "id": "nn9k_9VfnGNB"
      },
      "execution_count": null,
      "outputs": []
    }
  ]
}